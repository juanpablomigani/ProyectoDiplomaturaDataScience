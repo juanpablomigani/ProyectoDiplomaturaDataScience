{
 "cells": [
  {
   "cell_type": "markdown",
   "id": "78faf6c4-087b-44bb-aa1a-c585e6666ba6",
   "metadata": {},
   "source": [
    "## Test no paramétricos (Mann-Whitney U, Wilcoxon, Kruskal-Wallis y Spearman o Kendall)"
   ]
  },
  {
   "cell_type": "code",
   "execution_count": 1,
   "id": "3719e32b",
   "metadata": {},
   "outputs": [],
   "source": [
    "import numpy as np\n",
    "import matplotlib.pyplot as plt\n",
    "import pandas as pd\n",
    "import seaborn as sns\n",
    "from scipy.optimize import minimize\n",
    "from scipy.stats import jarque_bera\n",
    "import cvxpy as cp\n",
    "from cvxopt import matrix, solvers\n",
    "import requests\n",
    "import json\n",
    "import urllib3\n",
    "urllib3.disable_warnings()\n",
    "from datetime import datetime\n",
    "import pytz"
   ]
  },
  {
   "cell_type": "markdown",
   "id": "b7cc1486-6efa-4a9a-b357-91ed6d238c03",
   "metadata": {},
   "source": [
    "### Prueba de Mann-Whitney U\n",
    "\n",
    "Este test es útil cuando se desea comparar la distribución de dos grupos independientes para ver si provienen de la misma población.\n",
    "\n",
    "Supongamos que quieres comparar los precios de dos acciones específicas, como ALUA y GGAL."
   ]
  },
  {
   "cell_type": "code",
   "execution_count": null,
   "id": "48b7732c-d3c5-47c7-9ec5-7c066a236577",
   "metadata": {},
   "outputs": [],
   "source": [
    "from scipy.stats import mannwhitneyu\n",
    "\n",
    "# Selección de dos series de datos (por ejemplo, ALUA y GGAL)\n",
    "data1 = data['ALUA']\n",
    "data2 = data['GGAL']\n",
    "\n",
    "# Prueba de Mann-Whitney U\n",
    "stat, p_value = mannwhitneyu(data1, data2)\n",
    "\n",
    "print(f'Estadístico U: {stat}')\n",
    "print(f'P-valor: {p_value}')"
   ]
  },
  {
   "cell_type": "markdown",
   "id": "1af432d5-74ff-4831-a971-2f7cad6666a8",
   "metadata": {},
   "source": [
    "La Prueba de Mann-Whitney U ha arrojado los siguientes resultados:\n",
    "\n",
    "- Estadístico U: 74,000.0\n",
    "- P-valor: 4.848 x $10^{−35}$\n",
    "\n",
    "El p-valor es extremadamente bajo, lo que sugiere que hay una diferencia significativa entre las distribuciones de los precios de las acciones ALUA y GGAL. Esto indica que es muy poco probable que ambas series de datos provengan de la misma población."
   ]
  },
  {
   "cell_type": "markdown",
   "id": "930d4e3c-86e2-49f9-81a7-f6289feb0fac",
   "metadata": {},
   "source": [
    "### Prueba de Wilcoxon\n",
    "\n",
    "Se utiliza para comparar dos muestras relacionadas o pareadas. En el contexto de los precios de las acciones, se aplicaría si tienes dos series de datos relacionadas, como precios de una acción en dos momentos diferentes.\n",
    "\n",
    "Para realizar esta prueba, ambas series deben tener el mismo número de observaciones. Si estás comparando la misma acción en dos momentos diferentes, asegúrate de que las series están alineadas correctamente.\n",
    "\n",
    "Consideraciones:\n",
    "- Asegúrate de que las dos series tengan el mismo tamaño.\n",
    "- Si las dos series no tienen la misma longitud, no se puede realizar esta prueba sin recortar o ajustar los datos.\n",
    "\n",
    "Supongamos que quieres comparar los precios de la acción ALUA en dos días específicos:"
   ]
  },
  {
   "cell_type": "code",
   "execution_count": null,
   "id": "15faff86-7725-4334-a991-f99188e54c52",
   "metadata": {},
   "outputs": [],
   "source": [
    "from scipy.stats import wilcoxon\n",
    "\n",
    "# Ejemplo: comparar los precios de ALUA en dos fechas diferentes\n",
    "# Supongamos que quieres comparar los primeros 100 registros con los siguientes 100 registros\n",
    "data1 = data['ALUA'].iloc[:100]\n",
    "data2 = data['ALUA'].iloc[100:200]\n",
    "\n",
    "# Prueba de Wilcoxon\n",
    "stat, p_value = wilcoxon(data1, data2)\n",
    "\n",
    "print(f'Estadístico W: {stat}')\n",
    "print(f'P-valor: {p_value}')"
   ]
  },
  {
   "cell_type": "markdown",
   "id": "d0040e80-77ff-4d51-a131-431eaa000f36",
   "metadata": {},
   "source": [
    "La Prueba de Wilcoxon ha arrojado los siguientes resultados:\n",
    "\n",
    "- Estadístico W: 2067.0\n",
    "- P-valor: 0.1153\n",
    "  \n",
    "En este caso, el p-valor es mayor que el umbral típico de 0.05, lo que indica que no hay suficiente evidencia para rechazar la hipótesis nula. Esto sugiere que no hay una diferencia significativa en los precios de la acción ALUA entre los dos segmentos de tiempo que hemos comparado."
   ]
  },
  {
   "cell_type": "markdown",
   "id": "bfeb7b29-dbcc-4b1a-a9f3-c722be0c5bca",
   "metadata": {},
   "source": [
    "### Prueba de Kruskal-Wallis\n",
    "\n",
    "Se utiliza para comparar tres o más grupos independientes para determinar si al menos uno de los grupos difiere significativamente de los demás. Es una alternativa no paramétrica al ANOVA y no requiere que los datos sigan una distribución normal.\n",
    "\n",
    "Voy a realizar la Prueba de Kruskal-Wallis para comparar tres series de datos de diferentes acciones. Supongamos que queremos comparar ALUA, GGAL, y YPFD."
   ]
  },
  {
   "cell_type": "code",
   "execution_count": null,
   "id": "29dd2412-3673-4e1e-bfdc-ac10896bb8fc",
   "metadata": {},
   "outputs": [],
   "source": [
    "from scipy.stats import kruskal\n",
    "\n",
    "# Seleccionar tres series de datos de diferentes acciones\n",
    "data1 = data['ALUA']\n",
    "data2 = data['GGAL']\n",
    "data3 = data['YPFD']\n",
    "\n",
    "# Prueba de Kruskal-Wallis\n",
    "stat, p_value = kruskal(data1, data2, data3)\n",
    "\n",
    "print(f'Estadístico H: {stat}')\n",
    "print(f'P-valor: {p_value}')"
   ]
  },
  {
   "cell_type": "markdown",
   "id": "fd2c9b52-93c2-484f-9e5b-a090ecb8cd9c",
   "metadata": {},
   "source": [
    "La Prueba de Kruskal-Wallis ha arrojado los siguientes resultados:\n",
    "\n",
    "- Estadístico H: 952.66\n",
    "- P-valor: 1.355 x $10^{−207}$\n",
    " \n",
    "El p-valor es extremadamente bajo, lo que sugiere que hay diferencias significativas entre las distribuciones de los precios de las acciones ALUA, GGAL, y YPFD. Esto indica que al menos uno de los grupos difiere significativamente de los demás."
   ]
  },
  {
   "cell_type": "markdown",
   "id": "33418cc5-cf4a-4d8e-ac09-511d96d70b12",
   "metadata": {},
   "source": [
    "### Prueba de Spearman o Kendall\n",
    "\n",
    "Es una medida no paramétrica de la correlación (dependencia estadística) entre dos variables. Esta prueba evalúa cómo una variable se ordena respecto a otra, lo que es útil cuando las relaciones no son lineales o cuando los datos no siguen una distribución normal.\n",
    "\n",
    "Voy a calcular la correlación de Spearman entre dos series de precios, por ejemplo, ALUA y GGAL."
   ]
  },
  {
   "cell_type": "code",
   "execution_count": null,
   "id": "cff1b826-b263-4e5f-8ed8-dc37478f68dd",
   "metadata": {},
   "outputs": [],
   "source": [
    "from scipy.stats import spearmanr\n",
    "\n",
    "# Seleccionar dos series de datos\n",
    "data1 = data['ALUA']\n",
    "data2 = data['GGAL']\n",
    "\n",
    "# Prueba de Correlación de Spearman\n",
    "corr, p_value = spearmanr(data1, data2)\n",
    "\n",
    "print(f'Coeficiente de Correlación de Spearman: {corr}')\n",
    "print(f'P-valor: {p_value}')"
   ]
  },
  {
   "cell_type": "markdown",
   "id": "2b77a85b-4274-414d-899b-908523d6c617",
   "metadata": {},
   "source": [
    "La Prueba de Correlación de Spearman ha arrojado los siguientes resultados:\n",
    "\n",
    "- Coeficiente de Correlación de Spearman: 0.925\n",
    "- P-valor: 5.105 x $10^{−218}$\n",
    " \n",
    "El coeficiente de correlación de Spearman es muy alto (cerca de 1), lo que indica una fuerte correlación positiva entre los precios de las acciones ALUA y GGAL. El p-valor extremadamente bajo sugiere que esta correlación es estadísticamente significativa.\n",
    "\n",
    "Esto significa que, en general, cuando los precios de ALUA suben, los precios de GGAL también tienden a subir, y viceversa."
   ]
  },
  {
   "cell_type": "code",
   "execution_count": null,
   "id": "130348f8-4bbe-460f-bb7a-6c30d2ef751c",
   "metadata": {},
   "outputs": [],
   "source": []
  }
 ],
 "metadata": {
  "kernelspec": {
   "display_name": "Python 3 (ipykernel)",
   "language": "python",
   "name": "python3"
  },
  "language_info": {
   "codemirror_mode": {
    "name": "ipython",
    "version": 3
   },
   "file_extension": ".py",
   "mimetype": "text/x-python",
   "name": "python",
   "nbconvert_exporter": "python",
   "pygments_lexer": "ipython3",
   "version": "3.12.6"
  }
 },
 "nbformat": 4,
 "nbformat_minor": 5
}
