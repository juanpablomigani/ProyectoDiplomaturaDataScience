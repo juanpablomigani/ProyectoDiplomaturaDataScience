{
 "cells": [
  {
   "cell_type": "markdown",
   "id": "d8eab61b-f826-4893-8e5e-942978d66dd9",
   "metadata": {},
   "source": [
    "## Test chi-cuadrado (de Bondad de Ajuste, de Independencia y de Homogenidad)"
   ]
  },
  {
   "cell_type": "code",
   "execution_count": 1,
   "id": "5d94b8f3",
   "metadata": {},
   "outputs": [],
   "source": [
    "import numpy as np\n",
    "import matplotlib.pyplot as plt\n",
    "import pandas as pd\n",
    "import seaborn as sns\n",
    "from scipy.optimize import minimize\n",
    "from scipy.stats import jarque_bera\n",
    "import cvxpy as cp\n",
    "from cvxopt import matrix, solvers\n",
    "import requests\n",
    "import json\n",
    "import urllib3\n",
    "urllib3.disable_warnings()\n",
    "from datetime import datetime\n",
    "import pytz"
   ]
  },
  {
   "cell_type": "markdown",
   "id": "a9e5577c-eca5-49b6-8765-dd7b7c84e82a",
   "metadata": {},
   "source": [
    "### de Bondad de Ajuste\n",
    "\n",
    "Se utiliza para determinar si la distribución de frecuencias observada de una variable categórica coincide con una distribución teórica esperada.\n",
    "\n",
    "Voy a realizar un ejemplo donde supongamos que la distribución esperada de las categorías Bajo y Alto para la variable Accion_Alta sea equitativa, es decir, se espera que el 50% de los valores caigan en cada categoría.\n",
    "\n",
    "Este código compara las frecuencias observadas con las esperadas bajo la hipótesis de que ambas categorías (Bajo y Alto) deberían tener la misma frecuencia."
   ]
  },
  {
   "cell_type": "code",
   "execution_count": null,
   "id": "638fd79a-878d-4481-b321-31701509c27b",
   "metadata": {},
   "outputs": [],
   "source": [
    "import numpy as np\n",
    "from scipy.stats import chisquare\n",
    "\n",
    "# Frecuencias observadas para la variable Accion_Alta\n",
    "observed = contingency_table.sum(axis=1).values\n",
    "\n",
    "# Frecuencia esperada bajo la hipótesis nula de una distribución equitativa (50-50)\n",
    "expected = np.array([0.5, 0.5]) * observed.sum()\n",
    "\n",
    "# Prueba Chi-cuadrado de Bondad de Ajuste\n",
    "stat, p_value = chisquare(observed, expected)\n",
    "\n",
    "stat, p_value"
   ]
  },
  {
   "cell_type": "markdown",
   "id": "3c0ccb2d-1e2d-4fac-99b4-7ee1126cfbc0",
   "metadata": {},
   "source": [
    "La Prueba Chi-cuadrado de Bondad de Ajuste ha arrojado los siguientes resultados:\n",
    "\n",
    "- Estadístico Chi-cuadrado: 21.78\n",
    "- P-valor: 3.065 x $10^{−6}$\n",
    " \n",
    "El p-valor es muy bajo, lo que sugiere que las frecuencias observadas para las categorías Bajo y Alto en la variable Accion_Alta difieren significativamente de las frecuencias esperadas bajo la hipótesis de una distribución equitativa (50% para cada categoría).\n",
    "\n",
    "Esto indica que la distribución observada no coincide con la distribución teórica esperada."
   ]
  },
  {
   "cell_type": "markdown",
   "id": "305a116f-ab08-440c-a26c-6c1c29f3dc16",
   "metadata": {},
   "source": [
    "### de Independencia\n",
    "\n",
    "Este test examina si dos variables categóricas son independientes entre sí. Se utiliza una tabla de contingencia para este análisis.\n",
    "\n",
    "Vamos a crear una tabla de contingencia con dos variables categóricas y luego aplicaremos el test de independencia.\n",
    "\n",
    "Supongamos que tienes dos variables categóricas (por ejemplo, Acción_Alta y Acción_Baja), y quieres probar si son independientes entre sí."
   ]
  },
  {
   "cell_type": "code",
   "execution_count": null,
   "id": "04f86a2c-87ab-4dcd-ac87-adb957ad767b",
   "metadata": {},
   "outputs": [],
   "source": [
    "from scipy.stats import chi2_contingency\n",
    "\n",
    "# Crear variables categóricas a partir de las columnas ALUA y GGAL\n",
    "data['Accion_Alta'] = pd.cut(data['ALUA'], bins=2, labels=['Bajo', 'Alto'])\n",
    "data['Accion_Baja'] = pd.cut(data['GGAL'], bins=2, labels=['Bajo', 'Alto'])\n",
    "\n",
    "# Crear tabla de contingencia\n",
    "contingency_table = pd.crosstab(data['Accion_Alta'], data['Accion_Baja'])\n",
    "\n",
    "# Test Chi-cuadrado de Independencia\n",
    "stat, p_value, dof, expected = chi2_contingency(contingency_table)\n",
    "\n",
    "stat, p_value, dof, expected"
   ]
  },
  {
   "cell_type": "markdown",
   "id": "fee1de76-7a6f-4756-a26f-4babad222300",
   "metadata": {},
   "source": [
    "La Prueba Chi-cuadrado de Independencia ha arrojado los siguientes resultados:\n",
    "\n",
    "- Estadístico Chi-cuadrado: 257.59\n",
    "- P-valor: 5.749 x $10^{−58}$\n",
    "- Grados de libertad: 1\n",
    "- Frecuencias Esperadas:\n",
    "\n",
    "Bajo - Bajo: 233.25\n",
    "\n",
    "Bajo - Alto: 77.75\n",
    "\n",
    "Alto - Bajo: 153.75\n",
    "\n",
    "Alto - Alto: 51.25\n",
    "\n",
    "El p-valor extremadamente bajo indica que es altamente improbable que las variables categóricas Accion_Alta (derivada de ALUA) y Accion_Baja (derivada de GGAL) sean independientes. Esto sugiere una relación significativa entre estas dos variables."
   ]
  },
  {
   "cell_type": "markdown",
   "id": "0abc75b4-6970-41fb-9003-4a6fad6e9795",
   "metadata": {},
   "source": [
    "### de Homogeneidad\n",
    "\n",
    "Se utiliza para determinar si dos o más grupos independientes tienen la misma distribución para una variable categórica. Es similar a la prueba de independencia, pero en este caso, estamos interesados en saber si diferentes grupos comparten la misma distribución.\n",
    "\n",
    "Supongamos que queremos comparar si las distribuciones de las categorías Bajo y Alto para la variable Accion_Alta son las mismas en dos periodos de tiempo diferentes.\n",
    "\n",
    "Voy a crear dos grupos simulados dentro de los datos, por ejemplo, dividiendo el conjunto de datos en dos mitades, y luego aplicar la prueba de homogeneidad."
   ]
  },
  {
   "cell_type": "code",
   "execution_count": null,
   "id": "9df21777-dcc5-4d7b-857e-42e48fc450fc",
   "metadata": {},
   "outputs": [],
   "source": []
  }
 ],
 "metadata": {
  "kernelspec": {
   "display_name": "Python 3 (ipykernel)",
   "language": "python",
   "name": "python3"
  },
  "language_info": {
   "codemirror_mode": {
    "name": "ipython",
    "version": 3
   },
   "file_extension": ".py",
   "mimetype": "text/x-python",
   "name": "python",
   "nbconvert_exporter": "python",
   "pygments_lexer": "ipython3",
   "version": "3.12.6"
  }
 },
 "nbformat": 4,
 "nbformat_minor": 5
}
