{
 "cells": [
  {
   "cell_type": "markdown",
   "id": "ecfc0e0b-2df0-4f66-a33a-929897c0a227",
   "metadata": {},
   "source": [
    "## Estadística descriptiva"
   ]
  },
  {
   "cell_type": "code",
   "execution_count": 1,
   "id": "79048703",
   "metadata": {},
   "outputs": [],
   "source": [
    "import numpy as np\n",
    "import matplotlib.pyplot as plt\n",
    "import pandas as pd\n",
    "import seaborn as sns\n",
    "from scipy.optimize import minimize\n",
    "from scipy.stats import jarque_bera\n",
    "import cvxpy as cp\n",
    "from cvxopt import matrix, solvers\n",
    "import requests\n",
    "import json\n",
    "import urllib3\n",
    "urllib3.disable_warnings()\n",
    "from datetime import datetime\n",
    "import pytz"
   ]
  },
  {
   "cell_type": "markdown",
   "id": "8bfedb0d-4684-4d5d-b8d0-c3299dead90b",
   "metadata": {},
   "source": [
    "Realizaré un análisis estadístico descriptivo para entender la distribución y las características fundamentales de los datos. Este análisis incluirá la media, mediana, desviación estándar, así como los valores mínimos y máximos de los precios.\n",
    "\n",
    "Finalmente, crearé un gráfico de líneas que permitirá visualizar la evolución de los precios a lo largo del tiempo. Este gráfico servirá para detectar tendencias, patrones, y posibles outliers en los datos, proporcionando una base sólida para los análisis predictivos y la optimización de estrategias que se realizarán en etapas posteriores del proyecto."
   ]
  },
  {
   "cell_type": "code",
   "execution_count": null,
   "id": "65b537f3-071a-432d-9519-f0c26c9c2fb2",
   "metadata": {},
   "outputs": [],
   "source": [
    "# Estadísticas descriptivas\n",
    "descriptive_stats = datos.describe()\n",
    "\n",
    "# Visualización inicial - Gráfico de líneas para todas las acciones\n",
    "import matplotlib.pyplot as plt\n",
    "\n",
    "plt.figure(figsize=(14, 8))\n",
    "for column in datos.columns:\n",
    "    plt.plot(datos.index, datos[column], label=column)\n",
    "\n",
    "plt.title('Precios de Acciones del Panel Líder del Merval')\n",
    "plt.xlabel('Índice Temporal')\n",
    "plt.ylabel('Precio')\n",
    "plt.legend(loc='upper left', bbox_to_anchor=(1, 1))\n",
    "plt.grid(True)\n",
    "plt.show()\n",
    "\n",
    "descriptive_stats"
   ]
  },
  {
   "cell_type": "markdown",
   "id": "3a8910c5-d813-46a5-b0da-184a82ca79d7",
   "metadata": {},
   "source": [
    "### Cálculo de Retornos y Medidas de Tendencia Central\n",
    "\n",
    "Comprender la dinámica del retorno esperado y la volatilidad es fundamental para tomar decisiones informadas.\n",
    "\n",
    "Utilizando técnicas de estadística descriptiva, podemos cuantificar estos elementos y examinar la distribución de los retornos de los activos.\n",
    "\n",
    "Primero, calculamos los retornos diarios de cada activo como la variación porcentual en el precio de cierre de un día para el siguiente. Esto nos proporciona una medida básica de rendimiento:"
   ]
  },
  {
   "cell_type": "code",
   "execution_count": null,
   "id": "1be02924-e40d-44b9-95d6-b6df030212dc",
   "metadata": {},
   "outputs": [],
   "source": [
    "df1_return = datos / datos.shift(-1) - 1\n",
    "\n",
    "df1_return = df1_return.dropna()  # Elimina la primera fila que contiene valores nulos\n",
    "\n",
    "df1_return"
   ]
  },
  {
   "cell_type": "markdown",
   "id": "b9eea136-39fa-47a7-9d1e-d2aa9622b677",
   "metadata": {},
   "source": [
    "#### Retorno Esperado y Volatilidad\n",
    "\n",
    "El retorno esperado ($\\mu$)y la volatilidad ($\\sigma$) son dos de las estadísticas más cruciales para la evaluación de activos.\n",
    "\n",
    "El retorno esperado representa el promedio de los retornos pasados, mientras que la volatilidad mide la desviación estándar de esos retornos, proporcionando una medida de riesgo:"
   ]
  },
  {
   "cell_type": "code",
   "execution_count": null,
   "id": "2fc8ed21-1710-4830-bb95-8686079e139b",
   "metadata": {},
   "outputs": [],
   "source": [
    "# Retorno Esperado\n",
    "mu = df1_return.mean()\n",
    "\n",
    "# Volatilidad\n",
    "sigma = df1_return.std()\n",
    "\n",
    "# Crear un DataFrame combinando mu y sigma\n",
    "tabla1 = pd.concat([mu, sigma], axis=1)\n",
    "tabla1.columns = ['Retornos Medios', 'Volatilidad']\n",
    "\n",
    "# Mostrar el DataFrame resultante\n",
    "tabla1"
   ]
  },
  {
   "cell_type": "markdown",
   "id": "a16ed0f5-56ff-4e03-81eb-c07204cca587",
   "metadata": {},
   "source": [
    "#### Medidas de Dispersión y Forma\n",
    "\n",
    "Además de las medidas de tendencia central, es importante evaluar la dispersión y la asimetría en los retornos de los activos para comprender mejor los riesgos asociados:\n",
    "\n",
    "* **Cuartiles y Rango Intercuartil:** Los cuartiles dividen los datos en cuatro partes iguales y el rango intercuartil (la diferencia entre el tercer cuartil (Q3) y el primer cuartil (Q1)) ayuda a entender la variabilidad de los retornos excluyendo los valores atípicos.\n",
    "\n",
    "* **Mediana de las Desviaciones Absolutas (MAD)**: Ofrece una medida robusta de la variabilidad centrada en la mediana.\n",
    "\n",
    "* **Coeficiente de Asimetría**: Esta medida indica cómo los retornos se desvían de una distribución normal. Un valor de cero indica una distribución simétrica, mientras que valores negativos o positivos indican asimetría hacia la izquierda o derecha, respectivamente."
   ]
  },
  {
   "cell_type": "code",
   "execution_count": null,
   "id": "c3c015dc-8a3d-46d1-88e9-f012921c01ca",
   "metadata": {},
   "outputs": [],
   "source": [
    "# Calcular cuartiles para cada activo individualmente\n",
    "Q1 = df1_return.quantile(0.25)\n",
    "Q2 = df1_return.median()\n",
    "Q3 = df1_return.quantile(0.75)\n",
    "\n",
    "# Calcular el rango intercuartil\n",
    "rango_intercuartil = Q3 - Q1\n",
    "\n",
    "# Calcular la Mediana de las Desviaciones Absolutas (MAD)\n",
    "mad = np.mean(np.abs(df1_return - df1_return.median()))\n",
    "\n",
    "# Calcular el Coeficiente de Asimetría (Skewness)\n",
    "skewness = 3 * (mu - df1_return.median()) / sigma\n",
    "\n",
    "# Crear un DataFrame combinando mu, sigma, cuartiles, rango intercuartil, MAD y skewness\n",
    "tabla1 = pd.DataFrame({\n",
    "    'Retornos Medios': mu,\n",
    "    'Volatilidad': sigma,\n",
    "    'Q1': Q1,\n",
    "    'Q2 (Mediana)': Q2,\n",
    "    'Q3': Q3,\n",
    "    'Rango Intercuartil': rango_intercuartil,\n",
    "    'MAD': mad,\n",
    "    'Coeficiente de Asimetría': skewness\n",
    "})\n",
    "\n",
    "# Mostrar el DataFrame resultante\n",
    "tabla1"
   ]
  },
  {
   "cell_type": "markdown",
   "id": "92997403-d1d5-4ab0-b0ff-7132563b9d02",
   "metadata": {},
   "source": [
    "#### Visualización de Datos\n",
    "\n",
    "Un gráfico de caja (boxplot) es extremadamente útil para visualizar la distribución de los retornos, mostrando visualmente la mediana, cuartiles y valores atípicos de cada activo:"
   ]
  },
  {
   "cell_type": "code",
   "execution_count": null,
   "id": "580f844b-fcdb-4b8f-8ae3-d9cc00da92ad",
   "metadata": {},
   "outputs": [],
   "source": [
    "# Crea un gráfico de caja para cada columna en el DataFrame\n",
    "plt.figure(figsize=(12, 8))  # Ajusta el tamaño del gráfico según necesites\n",
    "sns.boxplot(data=df1_return)\n",
    "plt.title('Boxplot para cada activo')\n",
    "plt.xlabel('Activos')\n",
    "plt.ylabel('Retornos')\n",
    "plt.xticks(rotation=45)  # Rota las etiquetas del eje x si es necesario\n",
    "plt.show()"
   ]
  },
  {
   "cell_type": "markdown",
   "id": "cb97b4ca-0864-489a-9186-01c5f3805c5f",
   "metadata": {},
   "source": [
    "#### Matriz de Covarianza ($\\Sigma$)\n",
    "\n",
    "La matriz de covarianza es una herramienta esencial en la teoría de portafolios para analizar cómo los retornos de diferentes activos se mueven juntos.\n",
    "\n",
    "En términos financieros, la covarianza entre dos activos indica el grado en que estos activos se mueven en relación uno con el otro.\n",
    "\n",
    "Un valor positivo indica que los activos tienden a moverse en la misma dirección, mientras que un valor negativo sugiere movimientos opuestos.\n",
    "\n",
    "Aquí utilizamos la función .cov() de pandas para calcular la matriz de covarianza de los retornos:\n",
    "\n",
    "$$ Cov (X, Y) = \\frac{1}{N} \\sum_{i=1}^N (x_i - \\bar{x})(y_i - \\bar{y})$$\n",
    "\n",
    "$$ \\bar{x} = \\frac{1}{N} \\sum_{i=1}^N x_i \\quad\\quad\\quad\\quad\\bar{y} = \\frac{1}{N} \\sum_{i=1}^N y_i $$"
   ]
  },
  {
   "cell_type": "code",
   "execution_count": null,
   "id": "84f2aaaf-3742-4af9-94fd-d62d1f344fdf",
   "metadata": {},
   "outputs": [],
   "source": [
    "Sigma = df1_return.cov()\n",
    "Sigma"
   ]
  },
  {
   "cell_type": "markdown",
   "id": "18008fa0-8fc0-4fec-864c-25a493c99e3f",
   "metadata": {},
   "source": [
    "#### Matriz de Correlación ($\\rho_{XY}$)\n",
    "\n",
    "Mientras que la matriz de covarianza puede ser difícil de interpretar directamente debido a la dependencia de las magnitudes de los datos, la matriz de correlación estandariza estos valores, permitiendo una comparación directa entre variables.\n",
    "\n",
    "La correlación mide la relación lineal entre dos variables en una escala de -1 a 1. Utilizamos la función .corr() para obtener la matriz de correlación:\n",
    "\n",
    "\n",
    "$$\\large\\rho (x,y) = \\frac{1}{N} \\sum_{i=1}^N \\frac{(x_i - \\bar{x})}{S_x} \\frac{(y_i - \\bar{y})}{S_y}$$\n",
    "\n",
    "$$\\large cov(x,y) = \\rho (x,y) S_x S_y$$\n",
    "\n",
    "Recordar:\n",
    "\n",
    "$$S_x = \\sqrt{\\frac{1}{N} \\sum_{i=1}^N (x_i - \\bar{x})^2}\\quad\\quad S_y = \\sqrt{\\frac{1}{N} \\sum_{i=1}^N (y_i - \\bar{y})^2}$$"
   ]
  },
  {
   "cell_type": "code",
   "execution_count": null,
   "id": "55a876a1-b6f5-41a7-81a8-0f2f8a00ab05",
   "metadata": {},
   "outputs": [],
   "source": [
    "correlation_matrix = df1_return.corr()\n",
    "\n",
    "plt.figure(figsize=(12, 8))\n",
    "sns.heatmap(correlation_matrix, annot=True, cmap='YlGnBu', fmt=\".2f\")\n",
    "plt.title('Matriz de Correlación de Retornos (Calculada Manualmente)')\n",
    "\n",
    "plt.show()"
   ]
  },
  {
   "cell_type": "markdown",
   "id": "4d367d20-7bf7-4aa0-ad6c-e83b4d48c5d1",
   "metadata": {},
   "source": [
    "#### Visualización de Datos y Clasificación de Activos\n",
    "\n",
    "Para visualizar las relaciones entre la volatilidad y los retornos medios de los activos, empleamos un gráfico de dispersión.\n",
    "\n",
    "Este gráfico ayuda a identificar visualmente activos con características de riesgo y retorno deseables.\n",
    "\n",
    "Los activos pueden ser categorizados basándose en su posición en el gráfico, lo que facilita decisiones estratégicas de inversión."
   ]
  },
  {
   "cell_type": "code",
   "execution_count": null,
   "id": "12b67c60-339b-4164-aa7b-e33c0531232c",
   "metadata": {},
   "outputs": [],
   "source": [
    "# Configurar el tamaño de la figura\n",
    "plt.figure(figsize=(12, 8))\n",
    "\n",
    "# Crear un conjunto de colores para asignar a cada activo\n",
    "colores = np.arange(len(tabla1))\n",
    "\n",
    "# Crear un gráfico de dispersión con colores diferentes para cada activo\n",
    "scatter = plt.scatter(tabla1['Volatilidad'], tabla1['Retornos Medios'], c=colores, cmap='YlGnBu', alpha=0.9)\n",
    "\n",
    "# Etiquetar cada punto con el nombre del activo\n",
    "for i, txt in enumerate(tabla1.index):\n",
    "    plt.annotate(txt, (tabla1['Volatilidad'][i], tabla1['Retornos Medios'][i]), fontsize=8)\n",
    "\n",
    "# Configurar etiquetas y título del gráfico\n",
    "plt.xlabel('Volatilidad')\n",
    "plt.ylabel('Retornos Medios')\n",
    "plt.title('Clasificación de Activos por Retorno Medio y Volatilidad')\n",
    "\n",
    "# Mostrar el gráfico\n",
    "plt.grid(True)\n",
    "plt.show()"
   ]
  }
 ],
 "metadata": {
  "kernelspec": {
   "display_name": "Python 3 (ipykernel)",
   "language": "python",
   "name": "python3"
  },
  "language_info": {
   "codemirror_mode": {
    "name": "ipython",
    "version": 3
   },
   "file_extension": ".py",
   "mimetype": "text/x-python",
   "name": "python",
   "nbconvert_exporter": "python",
   "pygments_lexer": "ipython3",
   "version": "3.12.6"
  }
 },
 "nbformat": 4,
 "nbformat_minor": 5
}
