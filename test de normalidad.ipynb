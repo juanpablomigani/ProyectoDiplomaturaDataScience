{
 "cells": [
  {
   "cell_type": "markdown",
   "id": "212b89bc",
   "metadata": {},
   "source": [
    "## Test de normalidad (Shapiro-Wilk y Kolmogorov-Smirnov)"
   ]
  },
  {
   "cell_type": "code",
   "execution_count": 2,
   "id": "f78582c5",
   "metadata": {},
   "outputs": [],
   "source": [
    "import numpy as np\n",
    "import matplotlib.pyplot as plt\n",
    "import pandas as pd\n",
    "import seaborn as sns\n",
    "from scipy.optimize import minimize\n",
    "from scipy.stats import jarque_bera\n",
    "import cvxpy as cp\n",
    "from cvxopt import matrix, solvers\n",
    "import requests\n",
    "import json\n",
    "import urllib3\n",
    "urllib3.disable_warnings()\n",
    "from datetime import datetime\n",
    "import pytz"
   ]
  },
  {
   "cell_type": "markdown",
   "id": "15429294-3f01-46b9-b7f7-dc435d584d86",
   "metadata": {},
   "source": [
    "### Shapiro-Wilk Test:\n",
    "\n",
    "Este test verifica si una muestra proviene de una distribución normal. Un p-valor bajo (menor a 0.05) sugiere que la hipótesis nula de normalidad debe ser rechazada.\n",
    "\n",
    "En este caso, todos los p-valores son muy bajos, lo que indica que ninguna de las series de precios sigue una distribución normal."
   ]
  },
  {
   "cell_type": "markdown",
   "id": "93b49326-6338-4b62-8166-1f582ebd3967",
   "metadata": {},
   "source": [
    "### Kolmogorov-Smirnov Test:\n",
    "\n",
    "El test K-S compara la distribución de los datos con una distribución de referencia (en este caso, una distribución normal con la misma media y desviación estándar).\n",
    "\n",
    "Los resultados indican que para todas las acciones, los p-valores también son extremadamente bajos, reforzando la evidencia de que los datos no siguen una distribución normal."
   ]
  },
  {
   "cell_type": "code",
   "execution_count": 4,
   "id": "96ee9d48-7bb8-4325-b9af-1fd543c3ebfd",
   "metadata": {},
   "outputs": [
    {
     "ename": "ValueError",
     "evalue": "could not convert string to float: '2024-08-23'",
     "output_type": "error",
     "traceback": [
      "\u001b[0;31m---------------------------------------------------------------------------\u001b[0m",
      "\u001b[0;31mValueError\u001b[0m                                Traceback (most recent call last)",
      "Cell \u001b[0;32mIn[4], line 22\u001b[0m\n\u001b[1;32m     19\u001b[0m     \u001b[38;5;28;01mreturn\u001b[39;00m pd\u001b[38;5;241m.\u001b[39mDataFrame(results)\n\u001b[1;32m     21\u001b[0m \u001b[38;5;66;03m# Realizar los tests de normalidad\u001b[39;00m\n\u001b[0;32m---> 22\u001b[0m normality_results \u001b[38;5;241m=\u001b[39m \u001b[43mnormality_tests\u001b[49m\u001b[43m(\u001b[49m\u001b[43mdata\u001b[49m\u001b[43m)\u001b[49m\n\u001b[1;32m     24\u001b[0m \u001b[38;5;66;03m# Visualización de la distribución para cada columna\u001b[39;00m\n\u001b[1;32m     25\u001b[0m plt\u001b[38;5;241m.\u001b[39mfigure(figsize\u001b[38;5;241m=\u001b[39m(\u001b[38;5;241m14\u001b[39m, \u001b[38;5;241m10\u001b[39m))\n",
      "Cell \u001b[0;32mIn[4], line 13\u001b[0m, in \u001b[0;36mnormality_tests\u001b[0;34m(data)\u001b[0m\n\u001b[1;32m     11\u001b[0m results \u001b[38;5;241m=\u001b[39m {}\n\u001b[1;32m     12\u001b[0m \u001b[38;5;28;01mfor\u001b[39;00m column \u001b[38;5;129;01min\u001b[39;00m data\u001b[38;5;241m.\u001b[39mcolumns:\n\u001b[0;32m---> 13\u001b[0m     shapiro_test \u001b[38;5;241m=\u001b[39m \u001b[43mshapiro\u001b[49m\u001b[43m(\u001b[49m\u001b[43mdata\u001b[49m\u001b[43m[\u001b[49m\u001b[43mcolumn\u001b[49m\u001b[43m]\u001b[49m\u001b[43m)\u001b[49m\n\u001b[1;32m     14\u001b[0m     ks_test \u001b[38;5;241m=\u001b[39m kstest(data[column], \u001b[38;5;124m'\u001b[39m\u001b[38;5;124mnorm\u001b[39m\u001b[38;5;124m'\u001b[39m, args\u001b[38;5;241m=\u001b[39m(data[column]\u001b[38;5;241m.\u001b[39mmean(), data[column]\u001b[38;5;241m.\u001b[39mstd()))\n\u001b[1;32m     15\u001b[0m     results[column] \u001b[38;5;241m=\u001b[39m {\u001b[38;5;124m'\u001b[39m\u001b[38;5;124mShapiro-Wilk Test Statistic\u001b[39m\u001b[38;5;124m'\u001b[39m: shapiro_test[\u001b[38;5;241m0\u001b[39m], \n\u001b[1;32m     16\u001b[0m                        \u001b[38;5;124m'\u001b[39m\u001b[38;5;124mShapiro-Wilk p-value\u001b[39m\u001b[38;5;124m'\u001b[39m: shapiro_test[\u001b[38;5;241m1\u001b[39m],\n\u001b[1;32m     17\u001b[0m                        \u001b[38;5;124m'\u001b[39m\u001b[38;5;124mK-S Test Statistic\u001b[39m\u001b[38;5;124m'\u001b[39m: ks_test[\u001b[38;5;241m0\u001b[39m],\n\u001b[1;32m     18\u001b[0m                        \u001b[38;5;124m'\u001b[39m\u001b[38;5;124mK-S p-value\u001b[39m\u001b[38;5;124m'\u001b[39m: ks_test[\u001b[38;5;241m1\u001b[39m]}\n",
      "File \u001b[0;32m~/miniconda3/envs/facultad/lib/python3.12/site-packages/scipy/stats/_axis_nan_policy.py:573\u001b[0m, in \u001b[0;36m_axis_nan_policy_factory.<locals>.axis_nan_policy_decorator.<locals>.axis_nan_policy_wrapper\u001b[0;34m(***failed resolving arguments***)\u001b[0m\n\u001b[1;32m    570\u001b[0m     res \u001b[38;5;241m=\u001b[39m _add_reduced_axes(res, reduced_axes, keepdims)\n\u001b[1;32m    571\u001b[0m     \u001b[38;5;28;01mreturn\u001b[39;00m tuple_to_result(\u001b[38;5;241m*\u001b[39mres)\n\u001b[0;32m--> 573\u001b[0m res \u001b[38;5;241m=\u001b[39m \u001b[43mhypotest_fun_out\u001b[49m\u001b[43m(\u001b[49m\u001b[38;5;241;43m*\u001b[39;49m\u001b[43msamples\u001b[49m\u001b[43m,\u001b[49m\u001b[43m \u001b[49m\u001b[38;5;241;43m*\u001b[39;49m\u001b[38;5;241;43m*\u001b[39;49m\u001b[43mkwds\u001b[49m\u001b[43m)\u001b[49m\n\u001b[1;32m    574\u001b[0m res \u001b[38;5;241m=\u001b[39m result_to_tuple(res)\n\u001b[1;32m    575\u001b[0m res \u001b[38;5;241m=\u001b[39m _add_reduced_axes(res, reduced_axes, keepdims)\n",
      "File \u001b[0;32m~/miniconda3/envs/facultad/lib/python3.12/site-packages/scipy/stats/_morestats.py:2001\u001b[0m, in \u001b[0;36mshapiro\u001b[0;34m(x)\u001b[0m\n\u001b[1;32m   1872\u001b[0m \u001b[38;5;129m@_axis_nan_policy_factory\u001b[39m(ShapiroResult, n_samples\u001b[38;5;241m=\u001b[39m\u001b[38;5;241m1\u001b[39m, too_small\u001b[38;5;241m=\u001b[39m\u001b[38;5;241m2\u001b[39m, default_axis\u001b[38;5;241m=\u001b[39m\u001b[38;5;28;01mNone\u001b[39;00m)\n\u001b[1;32m   1873\u001b[0m \u001b[38;5;28;01mdef\u001b[39;00m \u001b[38;5;21mshapiro\u001b[39m(x):\n\u001b[1;32m   1874\u001b[0m \u001b[38;5;250m    \u001b[39m\u001b[38;5;124mr\u001b[39m\u001b[38;5;124;03m\"\"\"Perform the Shapiro-Wilk test for normality.\u001b[39;00m\n\u001b[1;32m   1875\u001b[0m \n\u001b[1;32m   1876\u001b[0m \u001b[38;5;124;03m    The Shapiro-Wilk test tests the null hypothesis that the\u001b[39;00m\n\u001b[0;32m   (...)\u001b[0m\n\u001b[1;32m   1999\u001b[0m \n\u001b[1;32m   2000\u001b[0m \u001b[38;5;124;03m    \"\"\"\u001b[39;00m\n\u001b[0;32m-> 2001\u001b[0m     x \u001b[38;5;241m=\u001b[39m \u001b[43mnp\u001b[49m\u001b[38;5;241;43m.\u001b[39;49m\u001b[43mravel\u001b[49m\u001b[43m(\u001b[49m\u001b[43mx\u001b[49m\u001b[43m)\u001b[49m\u001b[38;5;241;43m.\u001b[39;49m\u001b[43mastype\u001b[49m\u001b[43m(\u001b[49m\u001b[43mnp\u001b[49m\u001b[38;5;241;43m.\u001b[39;49m\u001b[43mfloat64\u001b[49m\u001b[43m)\u001b[49m\n\u001b[1;32m   2003\u001b[0m     N \u001b[38;5;241m=\u001b[39m \u001b[38;5;28mlen\u001b[39m(x)\n\u001b[1;32m   2004\u001b[0m     \u001b[38;5;28;01mif\u001b[39;00m N \u001b[38;5;241m<\u001b[39m \u001b[38;5;241m3\u001b[39m:\n",
      "\u001b[0;31mValueError\u001b[0m: could not convert string to float: '2024-08-23'"
     ]
    }
   ],
   "source": [
    "import pandas as pd\n",
    "from scipy.stats import kstest, shapiro\n",
    "import matplotlib.pyplot as plt\n",
    "import seaborn as sns\n",
    "\n",
    "# Cargar el DataFrame\n",
    "data = pd.read_csv('/Users/juanpablomigani/Desktop/Facultad/Trabajo final Diplomatura Data Science/Trabajo/Datos/Datos.csv')\n",
    "\n",
    "# Función para realizar el Test de Normalidad de Shapiro-Wilk y Kolmogorov-Smirnov para todas las columnas\n",
    "def normality_tests(data):\n",
    "    results = {}\n",
    "    for column in data.columns:\n",
    "        shapiro_test = shapiro(data[column])\n",
    "        ks_test = kstest(data[column], 'norm', args=(data[column].mean(), data[column].std()))\n",
    "        results[column] = {'Shapiro-Wilk Test Statistic': shapiro_test[0], \n",
    "                           'Shapiro-Wilk p-value': shapiro_test[1],\n",
    "                           'K-S Test Statistic': ks_test[0],\n",
    "                           'K-S p-value': ks_test[1]}\n",
    "    return pd.DataFrame(results)\n",
    "\n",
    "# Realizar los tests de normalidad\n",
    "normality_results = normality_tests(data)\n",
    "\n",
    "# Visualización de la distribución para cada columna\n",
    "plt.figure(figsize=(14, 10))\n",
    "for i, column in enumerate(data.columns, 1):\n",
    "    plt.subplot(5, 4, i)\n",
    "    sns.histplot(data[column], kde=True)\n",
    "    plt.title(column)\n",
    "\n",
    "plt.tight_layout()\n",
    "plt.show()\n",
    "\n",
    "# Mostrar los resultados\n",
    "print(normality_results)"
   ]
  },
  {
   "cell_type": "markdown",
   "id": "ad0c3620-9db9-4e41-9acd-72a0b794f211",
   "metadata": {},
   "source": [
    "Estos resultados sugieren que las series de precios de las acciones en este conjunto de datos no siguen una distribución normal, lo cual es un hallazgo común en datos financieros de alta frecuencia por lo que lo más adecuado sería optar por test no paramétricos para los análisis estadísticos."
   ]
  }
 ],
 "metadata": {
  "kernelspec": {
   "display_name": "Python 3 (ipykernel)",
   "language": "python",
   "name": "python3"
  },
  "language_info": {
   "codemirror_mode": {
    "name": "ipython",
    "version": 3
   },
   "file_extension": ".py",
   "mimetype": "text/x-python",
   "name": "python",
   "nbconvert_exporter": "python",
   "pygments_lexer": "ipython3",
   "version": "3.12.6"
  }
 },
 "nbformat": 4,
 "nbformat_minor": 5
}
